{
 "cells": [
  {
   "cell_type": "code",
   "execution_count": 1,
   "metadata": {},
   "outputs": [],
   "source": [
    "import requests, re"
   ]
  },
  {
   "cell_type": "code",
   "execution_count": 2,
   "metadata": {},
   "outputs": [],
   "source": [
    "regex = r\"([a-zA-Z0-9_.+-]+@[a-zA-Z0-9-]+\\.[a-zA-Z0-9-.]+)\""
   ]
  },
  {
   "cell_type": "code",
   "execution_count": 3,
   "metadata": {},
   "outputs": [],
   "source": [
    "url='http://tieba.baidu.com/p/5931342678'"
   ]
  },
  {
   "cell_type": "code",
   "execution_count": 4,
   "metadata": {},
   "outputs": [],
   "source": [
    "html=requests.get(url).text"
   ]
  },
  {
   "cell_type": "code",
   "execution_count": 5,
   "metadata": {},
   "outputs": [],
   "source": [
    "emails=re.findall(regex,html)"
   ]
  },
  {
   "cell_type": "code",
   "execution_count": 6,
   "metadata": {},
   "outputs": [
    {
     "name": "stdout",
     "output_type": "stream",
     "text": [
      "1 :515689275@qq.com\n",
      "2 :3367666161@qq.com\n",
      "3 :285299867@qq.com\n",
      "4 :1023868302@qq.com\n",
      "5 :920512979@qq.com\n",
      "6 :445649411@qq.com\n",
      "7 :3388293941@qq.com\n",
      "8 :369639215@qq.com\n",
      "9 :46656679@qq.com\n",
      "10 :29005992@qq.com\n",
      "11 :zhaofumu@163.com\n",
      "12 :1980352521@qq.com\n",
      "13 :1940038488@qq.com\n",
      "14 :1393397650@qq.com\n",
      "15 :2823818748@qq.com\n",
      "16 :counter@126.com\n",
      "17 :543034344@qq.com\n",
      "18 :1632246242@qq.com\n",
      "19 :315347727@qq.com\n",
      "20 :1271548044@qq.com\n",
      "21 :1755353819@qq.com\n",
      "22 :251940576@qq.com\n",
      "23 :773527860@qq.com\n",
      "24 :515989264@qq.com\n",
      "25 :552399345@qq.com\n",
      "26 :3174974708@qq.com\n",
      "27 :cnpccj@163.com\n",
      "28 :wulinzhongjiezhe@qq.com\n"
     ]
    }
   ],
   "source": [
    "i=0\n",
    "for email in emails:\n",
    "    i+=1\n",
    "    if i<40:\n",
    "        print(\"{} :{}\".format(i,email))"
   ]
  },
  {
   "cell_type": "code",
   "execution_count": null,
   "metadata": {},
   "outputs": [],
   "source": []
  }
 ],
 "metadata": {
  "kernelspec": {
   "display_name": "Python 3",
   "language": "python",
   "name": "python3"
  },
  "language_info": {
   "codemirror_mode": {
    "name": "ipython",
    "version": 3
   },
   "file_extension": ".py",
   "mimetype": "text/x-python",
   "name": "python",
   "nbconvert_exporter": "python",
   "pygments_lexer": "ipython3",
   "version": "3.6.5rc1"
  }
 },
 "nbformat": 4,
 "nbformat_minor": 2
}
